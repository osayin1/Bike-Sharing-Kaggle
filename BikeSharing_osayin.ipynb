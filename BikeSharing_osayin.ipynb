{
 "metadata": {
  "name": "",
  "signature": "sha256:e8f94c2b68e1ecfa8981527bebfc8fe3135a1cde7baf56d86c147c84542acb06"
 },
 "nbformat": 3,
 "nbformat_minor": 0,
 "worksheets": [
  {
   "cells": [
    {
     "cell_type": "code",
     "collapsed": false,
     "input": [
      "#%reset\n",
      "#who"
     ],
     "language": "python",
     "metadata": {
      "run_control": {
       "breakpoint": false
      }
     },
     "outputs": [],
     "prompt_number": 227
    },
    {
     "cell_type": "code",
     "collapsed": false,
     "input": [],
     "language": "python",
     "metadata": {
      "run_control": {
       "breakpoint": false
      }
     },
     "outputs": [],
     "prompt_number": 227
    },
    {
     "cell_type": "code",
     "collapsed": false,
     "input": [
      "import pandas as pd\n",
      "import numpy as np\n",
      "import matplotlib.pyplot as plt\n",
      "import re\n",
      "import os \n",
      "import ipdb\n",
      "#from pandas import Categorical"
     ],
     "language": "python",
     "metadata": {
      "run_control": {
       "breakpoint": false
      }
     },
     "outputs": [],
     "prompt_number": 228
    },
    {
     "cell_type": "code",
     "collapsed": false,
     "input": [
      "df_train = pd.read_csv(\"/Users/ozan/venv/base/Kaggle/BikeSharing/train.csv\")"
     ],
     "language": "python",
     "metadata": {
      "run_control": {
       "breakpoint": false
      }
     },
     "outputs": [],
     "prompt_number": 229
    },
    {
     "cell_type": "code",
     "collapsed": false,
     "input": [],
     "language": "python",
     "metadata": {
      "run_control": {
       "breakpoint": false
      }
     },
     "outputs": [],
     "prompt_number": 229
    },
    {
     "cell_type": "code",
     "collapsed": false,
     "input": [
      "df_train.head()"
     ],
     "language": "python",
     "metadata": {
      "run_control": {
       "breakpoint": false
      }
     },
     "outputs": [
      {
       "html": [
        "<div style=\"max-height:1000px;max-width:1500px;overflow:auto;\">\n",
        "<table border=\"1\" class=\"dataframe\">\n",
        "  <thead>\n",
        "    <tr style=\"text-align: right;\">\n",
        "      <th></th>\n",
        "      <th>datetime</th>\n",
        "      <th>season</th>\n",
        "      <th>holiday</th>\n",
        "      <th>workingday</th>\n",
        "      <th>weather</th>\n",
        "      <th>temp</th>\n",
        "      <th>atemp</th>\n",
        "      <th>humidity</th>\n",
        "      <th>windspeed</th>\n",
        "      <th>casual</th>\n",
        "      <th>registered</th>\n",
        "      <th>count</th>\n",
        "    </tr>\n",
        "  </thead>\n",
        "  <tbody>\n",
        "    <tr>\n",
        "      <th>0</th>\n",
        "      <td> 2011-01-01 00:00:00</td>\n",
        "      <td> 1</td>\n",
        "      <td> 0</td>\n",
        "      <td> 0</td>\n",
        "      <td> 1</td>\n",
        "      <td> 9.84</td>\n",
        "      <td> 14.395</td>\n",
        "      <td> 81</td>\n",
        "      <td> 0</td>\n",
        "      <td> 3</td>\n",
        "      <td> 13</td>\n",
        "      <td> 16</td>\n",
        "    </tr>\n",
        "    <tr>\n",
        "      <th>1</th>\n",
        "      <td> 2011-01-01 01:00:00</td>\n",
        "      <td> 1</td>\n",
        "      <td> 0</td>\n",
        "      <td> 0</td>\n",
        "      <td> 1</td>\n",
        "      <td> 9.02</td>\n",
        "      <td> 13.635</td>\n",
        "      <td> 80</td>\n",
        "      <td> 0</td>\n",
        "      <td> 8</td>\n",
        "      <td> 32</td>\n",
        "      <td> 40</td>\n",
        "    </tr>\n",
        "    <tr>\n",
        "      <th>2</th>\n",
        "      <td> 2011-01-01 02:00:00</td>\n",
        "      <td> 1</td>\n",
        "      <td> 0</td>\n",
        "      <td> 0</td>\n",
        "      <td> 1</td>\n",
        "      <td> 9.02</td>\n",
        "      <td> 13.635</td>\n",
        "      <td> 80</td>\n",
        "      <td> 0</td>\n",
        "      <td> 5</td>\n",
        "      <td> 27</td>\n",
        "      <td> 32</td>\n",
        "    </tr>\n",
        "    <tr>\n",
        "      <th>3</th>\n",
        "      <td> 2011-01-01 03:00:00</td>\n",
        "      <td> 1</td>\n",
        "      <td> 0</td>\n",
        "      <td> 0</td>\n",
        "      <td> 1</td>\n",
        "      <td> 9.84</td>\n",
        "      <td> 14.395</td>\n",
        "      <td> 75</td>\n",
        "      <td> 0</td>\n",
        "      <td> 3</td>\n",
        "      <td> 10</td>\n",
        "      <td> 13</td>\n",
        "    </tr>\n",
        "    <tr>\n",
        "      <th>4</th>\n",
        "      <td> 2011-01-01 04:00:00</td>\n",
        "      <td> 1</td>\n",
        "      <td> 0</td>\n",
        "      <td> 0</td>\n",
        "      <td> 1</td>\n",
        "      <td> 9.84</td>\n",
        "      <td> 14.395</td>\n",
        "      <td> 75</td>\n",
        "      <td> 0</td>\n",
        "      <td> 0</td>\n",
        "      <td>  1</td>\n",
        "      <td>  1</td>\n",
        "    </tr>\n",
        "  </tbody>\n",
        "</table>\n",
        "</div>"
       ],
       "metadata": {},
       "output_type": "pyout",
       "prompt_number": 230,
       "text": [
        "              datetime  season  holiday  workingday  weather  temp   atemp  \\\n",
        "0  2011-01-01 00:00:00       1        0           0        1  9.84  14.395   \n",
        "1  2011-01-01 01:00:00       1        0           0        1  9.02  13.635   \n",
        "2  2011-01-01 02:00:00       1        0           0        1  9.02  13.635   \n",
        "3  2011-01-01 03:00:00       1        0           0        1  9.84  14.395   \n",
        "4  2011-01-01 04:00:00       1        0           0        1  9.84  14.395   \n",
        "\n",
        "   humidity  windspeed  casual  registered  count  \n",
        "0        81          0       3          13     16  \n",
        "1        80          0       8          32     40  \n",
        "2        80          0       5          27     32  \n",
        "3        75          0       3          10     13  \n",
        "4        75          0       0           1      1  "
       ]
      }
     ],
     "prompt_number": 230
    },
    {
     "cell_type": "code",
     "collapsed": false,
     "input": [
      "#df_train.describe()"
     ],
     "language": "python",
     "metadata": {
      "run_control": {
       "breakpoint": false
      }
     },
     "outputs": [],
     "prompt_number": 231
    },
    {
     "cell_type": "code",
     "collapsed": false,
     "input": [
      "df_test = pd.read_csv(\"/Users/ozan/venv/base/Kaggle/BikeSharing/test.csv\")"
     ],
     "language": "python",
     "metadata": {
      "run_control": {
       "breakpoint": false
      }
     },
     "outputs": [],
     "prompt_number": 232
    },
    {
     "cell_type": "code",
     "collapsed": false,
     "input": [
      "df_test.head()"
     ],
     "language": "python",
     "metadata": {
      "run_control": {
       "breakpoint": false
      }
     },
     "outputs": [
      {
       "html": [
        "<div style=\"max-height:1000px;max-width:1500px;overflow:auto;\">\n",
        "<table border=\"1\" class=\"dataframe\">\n",
        "  <thead>\n",
        "    <tr style=\"text-align: right;\">\n",
        "      <th></th>\n",
        "      <th>datetime</th>\n",
        "      <th>season</th>\n",
        "      <th>holiday</th>\n",
        "      <th>workingday</th>\n",
        "      <th>weather</th>\n",
        "      <th>temp</th>\n",
        "      <th>atemp</th>\n",
        "      <th>humidity</th>\n",
        "      <th>windspeed</th>\n",
        "    </tr>\n",
        "  </thead>\n",
        "  <tbody>\n",
        "    <tr>\n",
        "      <th>0</th>\n",
        "      <td> 2011-01-20 00:00:00</td>\n",
        "      <td> 1</td>\n",
        "      <td> 0</td>\n",
        "      <td> 1</td>\n",
        "      <td> 1</td>\n",
        "      <td> 10.66</td>\n",
        "      <td> 11.365</td>\n",
        "      <td> 56</td>\n",
        "      <td> 26.0027</td>\n",
        "    </tr>\n",
        "    <tr>\n",
        "      <th>1</th>\n",
        "      <td> 2011-01-20 01:00:00</td>\n",
        "      <td> 1</td>\n",
        "      <td> 0</td>\n",
        "      <td> 1</td>\n",
        "      <td> 1</td>\n",
        "      <td> 10.66</td>\n",
        "      <td> 13.635</td>\n",
        "      <td> 56</td>\n",
        "      <td>  0.0000</td>\n",
        "    </tr>\n",
        "    <tr>\n",
        "      <th>2</th>\n",
        "      <td> 2011-01-20 02:00:00</td>\n",
        "      <td> 1</td>\n",
        "      <td> 0</td>\n",
        "      <td> 1</td>\n",
        "      <td> 1</td>\n",
        "      <td> 10.66</td>\n",
        "      <td> 13.635</td>\n",
        "      <td> 56</td>\n",
        "      <td>  0.0000</td>\n",
        "    </tr>\n",
        "    <tr>\n",
        "      <th>3</th>\n",
        "      <td> 2011-01-20 03:00:00</td>\n",
        "      <td> 1</td>\n",
        "      <td> 0</td>\n",
        "      <td> 1</td>\n",
        "      <td> 1</td>\n",
        "      <td> 10.66</td>\n",
        "      <td> 12.880</td>\n",
        "      <td> 56</td>\n",
        "      <td> 11.0014</td>\n",
        "    </tr>\n",
        "    <tr>\n",
        "      <th>4</th>\n",
        "      <td> 2011-01-20 04:00:00</td>\n",
        "      <td> 1</td>\n",
        "      <td> 0</td>\n",
        "      <td> 1</td>\n",
        "      <td> 1</td>\n",
        "      <td> 10.66</td>\n",
        "      <td> 12.880</td>\n",
        "      <td> 56</td>\n",
        "      <td> 11.0014</td>\n",
        "    </tr>\n",
        "  </tbody>\n",
        "</table>\n",
        "</div>"
       ],
       "metadata": {},
       "output_type": "pyout",
       "prompt_number": 233,
       "text": [
        "              datetime  season  holiday  workingday  weather   temp   atemp  \\\n",
        "0  2011-01-20 00:00:00       1        0           1        1  10.66  11.365   \n",
        "1  2011-01-20 01:00:00       1        0           1        1  10.66  13.635   \n",
        "2  2011-01-20 02:00:00       1        0           1        1  10.66  13.635   \n",
        "3  2011-01-20 03:00:00       1        0           1        1  10.66  12.880   \n",
        "4  2011-01-20 04:00:00       1        0           1        1  10.66  12.880   \n",
        "\n",
        "   humidity  windspeed  \n",
        "0        56    26.0027  \n",
        "1        56     0.0000  \n",
        "2        56     0.0000  \n",
        "3        56    11.0014  \n",
        "4        56    11.0014  "
       ]
      }
     ],
     "prompt_number": 233
    },
    {
     "cell_type": "code",
     "collapsed": false,
     "input": [
      "#df_test.describe()"
     ],
     "language": "python",
     "metadata": {
      "run_control": {
       "breakpoint": false
      }
     },
     "outputs": [],
     "prompt_number": 234
    },
    {
     "cell_type": "code",
     "collapsed": false,
     "input": [
      "#df_test.tail()"
     ],
     "language": "python",
     "metadata": {
      "run_control": {
       "breakpoint": false
      }
     },
     "outputs": [],
     "prompt_number": 235
    },
    {
     "cell_type": "code",
     "collapsed": false,
     "input": [
      "pd.options.display.mpl_style = 'default'  ## Nicer plot graphics"
     ],
     "language": "python",
     "metadata": {
      "run_control": {
       "breakpoint": false
      }
     },
     "outputs": [],
     "prompt_number": 236
    },
    {
     "cell_type": "code",
     "collapsed": false,
     "input": [
      "%matplotlib inline"
     ],
     "language": "python",
     "metadata": {
      "run_control": {
       "breakpoint": false
      }
     },
     "outputs": [],
     "prompt_number": 237
    },
    {
     "cell_type": "code",
     "collapsed": false,
     "input": [
      "fig = plt.figure()\n",
      "#ax = fig.add_subplot(111)\n",
      "df_train.plot(x='datetime', y='count')"
     ],
     "language": "python",
     "metadata": {
      "run_control": {
       "breakpoint": false
      }
     },
     "outputs": [
      {
       "metadata": {},
       "output_type": "pyout",
       "prompt_number": 238,
       "text": [
        "<matplotlib.axes.AxesSubplot at 0x116d284d0>"
       ]
      },
      {
       "metadata": {},
       "output_type": "display_data",
       "text": [
        "<matplotlib.figure.Figure at 0x1122b4ad0>"
       ]
      },
      {
       "metadata": {},
       "output_type": "display_data",
       "png": "[encoded data removed]",
       "text": [
        "<matplotlib.figure.Figure at 0x1121a6e50>"
       ]
      }
     ],
     "prompt_number": 238
    },
    {
     "cell_type": "code",
     "collapsed": false,
     "input": [],
     "language": "python",
     "metadata": {
      "run_control": {
       "breakpoint": false
      }
     },
     "outputs": [],
     "prompt_number": 238
    },
    {
     "cell_type": "code",
     "collapsed": false,
     "input": [
      "df_train.index = pd.to_datetime(df_train['datetime'])"
     ],
     "language": "python",
     "metadata": {
      "run_control": {
       "breakpoint": false
      }
     },
     "outputs": [],
     "prompt_number": 239
    },
    {
     "cell_type": "code",
     "collapsed": false,
     "input": [
      "df_test.index = pd.to_datetime(df_test['datetime'])"
     ],
     "language": "python",
     "metadata": {
      "run_control": {
       "breakpoint": false
      }
     },
     "outputs": [],
     "prompt_number": 240
    },
    {
     "cell_type": "code",
     "collapsed": false,
     "input": [
      "#type(df_train.index)\n",
      "#df_train.head(5)"
     ],
     "language": "python",
     "metadata": {
      "run_control": {
       "breakpoint": false
      }
     },
     "outputs": [],
     "prompt_number": 241
    },
    {
     "cell_type": "code",
     "collapsed": false,
     "input": [
      "np.sum(df_test.isnull())"
     ],
     "language": "python",
     "metadata": {
      "run_control": {
       "breakpoint": false
      }
     },
     "outputs": [
      {
       "metadata": {},
       "output_type": "pyout",
       "prompt_number": 242,
       "text": [
        "datetime      0\n",
        "season        0\n",
        "holiday       0\n",
        "workingday    0\n",
        "weather       0\n",
        "temp          0\n",
        "atemp         0\n",
        "humidity      0\n",
        "windspeed     0\n",
        "dtype: int64"
       ]
      }
     ],
     "prompt_number": 242
    },
    {
     "cell_type": "code",
     "collapsed": false,
     "input": [
      "df_train['2011-1-1':'2011-1-2'].plot(x='datetime', y='count')"
     ],
     "language": "python",
     "metadata": {
      "run_control": {
       "breakpoint": false
      }
     },
     "outputs": [
      {
       "metadata": {},
       "output_type": "pyout",
       "prompt_number": 243,
       "text": [
        "<matplotlib.axes.AxesSubplot at 0x114267650>"
       ]
      },
      {
       "metadata": {},
       "output_type": "display_data",
       "png": "[encoded data removed]",
       "text": [
        "<matplotlib.figure.Figure at 0x112219650>"
       ]
      }
     ],
     "prompt_number": 243
    },
    {
     "cell_type": "code",
     "collapsed": false,
     "input": [
      "df_train.boxplot(column='count', by = 'weather')"
     ],
     "language": "python",
     "metadata": {
      "run_control": {
       "breakpoint": false
      }
     },
     "outputs": [
      {
       "metadata": {},
       "output_type": "pyout",
       "prompt_number": 244,
       "text": [
        "<matplotlib.axes.AxesSubplot at 0x1173ac810>"
       ]
      },
      {
       "metadata": {},
       "output_type": "display_data",
       "png": "[encoded data removed]",
       "text": [
        "<matplotlib.figure.Figure at 0x116b34850>"
       ]
      }
     ],
     "prompt_number": 244
    },
    {
     "cell_type": "code",
     "collapsed": false,
     "input": [
      "df_train.boxplot(column='casual', by = 'weather')"
     ],
     "language": "python",
     "metadata": {
      "run_control": {
       "breakpoint": false
      }
     },
     "outputs": [
      {
       "metadata": {},
       "output_type": "pyout",
       "prompt_number": 245,
       "text": [
        "<matplotlib.axes.AxesSubplot at 0x112800a50>"
       ]
      },
      {
       "metadata": {},
       "output_type": "display_data",
       "png": "[encoded data removed]",
       "text": [
        "<matplotlib.figure.Figure at 0x1142003d0>"
       ]
      }
     ],
     "prompt_number": 245
    },
    {
     "cell_type": "code",
     "collapsed": false,
     "input": [],
     "language": "python",
     "metadata": {
      "run_control": {
       "breakpoint": false
      }
     },
     "outputs": [],
     "prompt_number": 245
    },
    {
     "cell_type": "code",
     "collapsed": false,
     "input": [
      "plt.scatter(df_train['temp'],df_train['casual'])\n",
      "plt.xlim(df_train['temp'].min(),df_train['temp'].max())"
     ],
     "language": "python",
     "metadata": {
      "run_control": {
       "breakpoint": false
      }
     },
     "outputs": [
      {
       "metadata": {},
       "output_type": "pyout",
       "prompt_number": 246,
       "text": [
        "(0.81999999999999995, 41.0)"
       ]
      },
      {
       "metadata": {},
       "output_type": "display_data",
       "png": "[encoded data removed]",
       "text": [
        "<matplotlib.figure.Figure at 0x114220f50>"
       ]
      }
     ],
     "prompt_number": 246
    },
    {
     "cell_type": "code",
     "collapsed": false,
     "input": [],
     "language": "python",
     "metadata": {
      "run_control": {
       "breakpoint": false
      }
     },
     "outputs": [],
     "prompt_number": 246
    },
    {
     "cell_type": "code",
     "collapsed": false,
     "input": [
      "if False: #Don't need this..\n",
      "    ## Create list of datetime indexes for all 24 months to later subset the data frames\n",
      "    start_date = pd.datetime(2011, 1, 1)\n",
      "    end_date   = pd.datetime(2012,12,31)\n",
      "    start_date = pd.to_datetime('01-01-2011 00:00')\n",
      "    end_date   = pd.to_datetime('12-31-2012 23:00')\n",
      "    rng        = pd.date_range(start_date, end_date, freq ='H')"
     ],
     "language": "python",
     "metadata": {
      "run_control": {
       "breakpoint": false
      }
     },
     "outputs": [],
     "prompt_number": 248
    },
    {
     "cell_type": "code",
     "collapsed": false,
     "input": [],
     "language": "python",
     "metadata": {
      "run_control": {
       "breakpoint": false
      }
     },
     "outputs": [],
     "prompt_number": 248
    },
    {
     "cell_type": "code",
     "collapsed": false,
     "input": [
      "## Create list of month dates \n",
      "months_index = pd.date_range('2011-1', periods = 24, freq ='M')"
     ],
     "language": "python",
     "metadata": {
      "run_control": {
       "breakpoint": false
      }
     },
     "outputs": [],
     "prompt_number": 249
    },
    {
     "cell_type": "code",
     "collapsed": false,
     "input": [
      "#type(months_index) #pandas.tseries.index.DatetimeIndex\n",
      "#months_index[0] #Timestamp('2011-01-31 00:00:00', offset='M')\n",
      "#str(months_index[0]) #'2011-01-31 00:00:00'"
     ],
     "language": "python",
     "metadata": {
      "run_control": {
       "breakpoint": false
      }
     },
     "outputs": [],
     "prompt_number": 250
    },
    {
     "cell_type": "code",
     "collapsed": false,
     "input": [
      "months_list = []\n",
      "for m_index in months_index:\n",
      "    month_str = re.search(r'(\\d+)-(\\d+)', str(m_index))\n",
      "    #print month_str.group()\n",
      "    months_list.append(month_str.group())"
     ],
     "language": "python",
     "metadata": {
      "run_control": {
       "breakpoint": false
      }
     },
     "outputs": [],
     "prompt_number": 251
    },
    {
     "cell_type": "code",
     "collapsed": false,
     "input": [
      "months_list[:3]"
     ],
     "language": "python",
     "metadata": {
      "run_control": {
       "breakpoint": false
      }
     },
     "outputs": [
      {
       "metadata": {},
       "output_type": "pyout",
       "prompt_number": 252,
       "text": [
        "['2011-01', '2011-02', '2011-03']"
       ]
      }
     ],
     "prompt_number": 252
    },
    {
     "cell_type": "code",
     "collapsed": false,
     "input": [
      "df_train[months_list[1]].head()"
     ],
     "language": "python",
     "metadata": {
      "run_control": {
       "breakpoint": false
      }
     },
     "outputs": [
      {
       "html": [
        "<div style=\"max-height:1000px;max-width:1500px;overflow:auto;\">\n",
        "<table border=\"1\" class=\"dataframe\">\n",
        "  <thead>\n",
        "    <tr style=\"text-align: right;\">\n",
        "      <th></th>\n",
        "      <th>datetime</th>\n",
        "      <th>season</th>\n",
        "      <th>holiday</th>\n",
        "      <th>workingday</th>\n",
        "      <th>weather</th>\n",
        "      <th>temp</th>\n",
        "      <th>atemp</th>\n",
        "      <th>humidity</th>\n",
        "      <th>windspeed</th>\n",
        "      <th>casual</th>\n",
        "      <th>registered</th>\n",
        "      <th>count</th>\n",
        "    </tr>\n",
        "    <tr>\n",
        "      <th>datetime</th>\n",
        "      <th></th>\n",
        "      <th></th>\n",
        "      <th></th>\n",
        "      <th></th>\n",
        "      <th></th>\n",
        "      <th></th>\n",
        "      <th></th>\n",
        "      <th></th>\n",
        "      <th></th>\n",
        "      <th></th>\n",
        "      <th></th>\n",
        "      <th></th>\n",
        "    </tr>\n",
        "  </thead>\n",
        "  <tbody>\n",
        "    <tr>\n",
        "      <th>2011-02-01 00:00:00</th>\n",
        "      <td> 2011-02-01 00:00:00</td>\n",
        "      <td> 1</td>\n",
        "      <td> 0</td>\n",
        "      <td> 1</td>\n",
        "      <td> 2</td>\n",
        "      <td> 6.56</td>\n",
        "      <td>  9.090</td>\n",
        "      <td> 64</td>\n",
        "      <td> 7.0015</td>\n",
        "      <td> 2</td>\n",
        "      <td> 6</td>\n",
        "      <td> 8</td>\n",
        "    </tr>\n",
        "    <tr>\n",
        "      <th>2011-02-01 01:00:00</th>\n",
        "      <td> 2011-02-01 01:00:00</td>\n",
        "      <td> 1</td>\n",
        "      <td> 0</td>\n",
        "      <td> 1</td>\n",
        "      <td> 2</td>\n",
        "      <td> 6.56</td>\n",
        "      <td>  9.090</td>\n",
        "      <td> 69</td>\n",
        "      <td> 7.0015</td>\n",
        "      <td> 0</td>\n",
        "      <td> 3</td>\n",
        "      <td> 3</td>\n",
        "    </tr>\n",
        "    <tr>\n",
        "      <th>2011-02-01 02:00:00</th>\n",
        "      <td> 2011-02-01 02:00:00</td>\n",
        "      <td> 1</td>\n",
        "      <td> 0</td>\n",
        "      <td> 1</td>\n",
        "      <td> 2</td>\n",
        "      <td> 6.56</td>\n",
        "      <td> 11.365</td>\n",
        "      <td> 69</td>\n",
        "      <td> 0.0000</td>\n",
        "      <td> 0</td>\n",
        "      <td> 2</td>\n",
        "      <td> 2</td>\n",
        "    </tr>\n",
        "    <tr>\n",
        "      <th>2011-02-01 03:00:00</th>\n",
        "      <td> 2011-02-01 03:00:00</td>\n",
        "      <td> 1</td>\n",
        "      <td> 0</td>\n",
        "      <td> 1</td>\n",
        "      <td> 2</td>\n",
        "      <td> 6.56</td>\n",
        "      <td> 11.365</td>\n",
        "      <td> 69</td>\n",
        "      <td> 0.0000</td>\n",
        "      <td> 0</td>\n",
        "      <td> 2</td>\n",
        "      <td> 2</td>\n",
        "    </tr>\n",
        "    <tr>\n",
        "      <th>2011-02-01 05:00:00</th>\n",
        "      <td> 2011-02-01 05:00:00</td>\n",
        "      <td> 1</td>\n",
        "      <td> 0</td>\n",
        "      <td> 1</td>\n",
        "      <td> 3</td>\n",
        "      <td> 5.74</td>\n",
        "      <td> 10.605</td>\n",
        "      <td> 93</td>\n",
        "      <td> 0.0000</td>\n",
        "      <td> 0</td>\n",
        "      <td> 3</td>\n",
        "      <td> 3</td>\n",
        "    </tr>\n",
        "  </tbody>\n",
        "</table>\n",
        "</div>"
       ],
       "metadata": {},
       "output_type": "pyout",
       "prompt_number": 253,
       "text": [
        "                                datetime  season  holiday  workingday  \\\n",
        "datetime                                                                \n",
        "2011-02-01 00:00:00  2011-02-01 00:00:00       1        0           1   \n",
        "2011-02-01 01:00:00  2011-02-01 01:00:00       1        0           1   \n",
        "2011-02-01 02:00:00  2011-02-01 02:00:00       1        0           1   \n",
        "2011-02-01 03:00:00  2011-02-01 03:00:00       1        0           1   \n",
        "2011-02-01 05:00:00  2011-02-01 05:00:00       1        0           1   \n",
        "\n",
        "                     weather  temp   atemp  humidity  windspeed  casual  \\\n",
        "datetime                                                                  \n",
        "2011-02-01 00:00:00        2  6.56   9.090        64     7.0015       2   \n",
        "2011-02-01 01:00:00        2  6.56   9.090        69     7.0015       0   \n",
        "2011-02-01 02:00:00        2  6.56  11.365        69     0.0000       0   \n",
        "2011-02-01 03:00:00        2  6.56  11.365        69     0.0000       0   \n",
        "2011-02-01 05:00:00        3  5.74  10.605        93     0.0000       0   \n",
        "\n",
        "                     registered  count  \n",
        "datetime                                \n",
        "2011-02-01 00:00:00           6      8  \n",
        "2011-02-01 01:00:00           3      3  \n",
        "2011-02-01 02:00:00           2      2  \n",
        "2011-02-01 03:00:00           2      2  \n",
        "2011-02-01 05:00:00           3      3  "
       ]
      }
     ],
     "prompt_number": 253
    },
    {
     "cell_type": "code",
     "collapsed": false,
     "input": [
      "#df_train[months_list[0]].plot(x='datetime', y='count')"
     ],
     "language": "python",
     "metadata": {
      "run_control": {
       "breakpoint": false
      }
     },
     "outputs": [],
     "prompt_number": 254
    },
    {
     "cell_type": "code",
     "collapsed": false,
     "input": [],
     "language": "python",
     "metadata": {
      "run_control": {
       "breakpoint": false
      }
     },
     "outputs": [],
     "prompt_number": 254
    },
    {
     "cell_type": "code",
     "collapsed": false,
     "input": [],
     "language": "python",
     "metadata": {
      "run_control": {
       "breakpoint": false
      }
     },
     "outputs": [],
     "prompt_number": 254
    },
    {
     "cell_type": "code",
     "collapsed": false,
     "input": [
      "# Check if there any entries where workingday and holiday are the same\n",
      "# len(df_train[~(df_train['workingday'] ^ df_train['holiday'])])"
     ],
     "language": "python",
     "metadata": {
      "run_control": {
       "breakpoint": false
      }
     },
     "outputs": [],
     "prompt_number": 255
    },
    {
     "cell_type": "code",
     "collapsed": false,
     "input": [
      "#len(df_train[(df_train['workingday'] == 1) & (df_train['holiday'] == 1)])"
     ],
     "language": "python",
     "metadata": {
      "run_control": {
       "breakpoint": false
      }
     },
     "outputs": [],
     "prompt_number": 256
    },
    {
     "cell_type": "code",
     "collapsed": false,
     "input": [
      "## Create hour, day and month variables from datetime\n",
      "## Create year variable also\n",
      "#df_train['weekday'] = pd.Series(df_train.index.weekday, index=df_train.index, dtype=\"category)\n",
      "df_train['weekday'] = pd.Series(df_train.index.weekday, index=df_train.index)\n",
      "df_test['weekday']  = pd.Series(df_test.index.weekday, index=df_test.index)\n",
      "df_train['hour']    = pd.Series(df_train.index.hour, index=df_train.index)\n",
      "df_test['hour']     = pd.Series(df_test.index.hour, index=df_test.index)\n",
      "df_train['month']   = pd.Series(df_train.index.month, index=df_train.index)\n",
      "df_test['month']    = pd.Series(df_test.index.month, index=df_test.index)\n",
      "df_train['year']    = pd.Series(df_train.index.year, index=df_train.index)\n",
      "df_test['year']     = pd.Series(df_test.index.year, index=df_test.index)\n"
     ],
     "language": "python",
     "metadata": {
      "run_control": {
       "breakpoint": false
      }
     },
     "outputs": [],
     "prompt_number": 257
    },
    {
     "cell_type": "code",
     "collapsed": false,
     "input": [
      "#scikit-learn RF estimators (and others) can't handle categorical variables so have to figure out another way..\n",
      "if False:   \n",
      "    ## Convert other variables to categorical\n",
      "    #df_train['season'] = df_train['season'].astype('category')\n",
      "    df_train['holiday'] = df_train['holiday'].astype('category')\n",
      "    df_train['workingday'] = df_train['workingday'].astype('category')\n",
      "    df_train['weather'] = df_train['weather'].astype('category')\n",
      "    df_test['season'] = df_test['season'].astype('category')\n",
      "    df_test['holiday'] = df_test['holiday'].astype('category')\n",
      "    df_test['workingday'] = df_test['workingday'].astype('category')\n",
      "    df_test['weather'] = df_test['weather'].astype('category')\n",
      "\n",
      "    #def convert2categorical(df):\n",
      "    #    return pd.factorize(df)\n",
      "    #df_fac = df_train[['year','month']].apply(convert2categorical, axis=0)"
     ],
     "language": "python",
     "metadata": {
      "run_control": {
       "breakpoint": false
      }
     },
     "outputs": [],
     "prompt_number": 258
    },
    {
     "cell_type": "code",
     "collapsed": false,
     "input": [
      "df_test['casual']     = pd.Series(np.zeros(len(df_test)), index=df_test.index)\n",
      "df_test['registered'] = pd.Series(np.zeros(len(df_test)), index=df_test.index)"
     ],
     "language": "python",
     "metadata": {
      "run_control": {
       "breakpoint": false
      }
     },
     "outputs": [],
     "prompt_number": 259
    },
    {
     "cell_type": "code",
     "collapsed": false,
     "input": [
      "#df_train.head()\n",
      "#df_train.describe()"
     ],
     "language": "python",
     "metadata": {
      "run_control": {
       "breakpoint": false
      }
     },
     "outputs": [],
     "prompt_number": 260
    },
    {
     "cell_type": "code",
     "collapsed": false,
     "input": [
      "from sklearn.cross_validation import train_test_split\n",
      "from sklearn.grid_search import GridSearchCV\n",
      "from sklearn.metrics import r2_score\n",
      "from sklearn.tree import DecisionTreeRegressor\n",
      "from sklearn.ensemble import AdaBoostRegressor\n",
      "from sklearn.ensemble import RandomForestRegressor\n",
      "\n",
      "from sklearn.preprocessing import LabelEncoder, OneHotEncoder"
     ],
     "language": "python",
     "metadata": {
      "run_control": {
       "breakpoint": false
      }
     },
     "outputs": [],
     "prompt_number": 261
    },
    {
     "cell_type": "code",
     "collapsed": false,
     "input": [
      "\n"
     ],
     "language": "python",
     "metadata": {},
     "outputs": [],
     "prompt_number": 261
    },
    {
     "cell_type": "code",
     "collapsed": false,
     "input": [
      "\n",
      "\n"
     ],
     "language": "python",
     "metadata": {},
     "outputs": [],
     "prompt_number": 261
    },
    {
     "cell_type": "code",
     "collapsed": false,
     "input": [
      "## Preprocess the data prior to downstream modeling. ##\n",
      "# Encode season, weather,month and weekday attributes \n",
      "season_names  = ['season_1','season_2','season_3','season_4']\n",
      "weather_names = ['weather_1','weather_2','weather_3','weather_4']\n",
      "month_names   = list(pd.Series(range(1,13)).apply(lambda x: 'month_' + str(x)))\n",
      "weekday_names = list(pd.Series(range(7)).apply(lambda x: 'day_' + str(x)))\n",
      "\n",
      "enc_names = season_names\n",
      "enc_names.extend(weather_names)  \n",
      "enc_names.extend(month_names)\n",
      "enc_names.extend(weekday_names)\n",
      "\n",
      "if True: #just do once! \n",
      "    # Shift attributes to the range [0,n_values)\n",
      "    df_train.season = df_train.season - 1\n",
      "    df_train.weather = df_train.weather - 1\n",
      "    df_train.month   = df_train.month - 1\n",
      "    \n",
      "arr_vars = np.array(df_train[['season','weather','month','weekday']])    \n",
      "\n",
      "enc = OneHotEncoder()\n",
      "one_hot_encoder   = enc.fit(arr_vars)\n",
      "arr_enc_vars = one_hot_encoder.transform(arr_vars)\n",
      "\n",
      "df_arr_enc_vars = pd.DataFrame(arr_enc_vars.toarray(),columns=enc_names,index=df_train.index)"
     ],
     "language": "python",
     "metadata": {},
     "outputs": [],
     "prompt_number": 262
    },
    {
     "cell_type": "code",
     "collapsed": false,
     "input": [
      "# Bind the sparse encoded data to the actual training data\n",
      "df_train = df_train.join(df_arr_enc_vars)"
     ],
     "language": "python",
     "metadata": {},
     "outputs": [],
     "prompt_number": 263
    },
    {
     "cell_type": "code",
     "collapsed": false,
     "input": [
      "# Convert year attribute to binary\n",
      "df_train.year = (df_train.year == 2012).apply(lambda x: int(x))"
     ],
     "language": "python",
     "metadata": {},
     "outputs": [],
     "prompt_number": 264
    },
    {
     "cell_type": "code",
     "collapsed": false,
     "input": [
      "# Drop the original attributes after one-hot-encoding them\n",
      "df_train.drop(['season','weather','month','weekday'],axis=1,inplace=True)"
     ],
     "language": "python",
     "metadata": {},
     "outputs": [],
     "prompt_number": 265
    },
    {
     "cell_type": "code",
     "collapsed": false,
     "input": [
      "rng1 = np.random.RandomState(1)\n",
      "rng2 = np.random.RandomState(2)\n",
      "\n",
      "if False:  ##Use AdaBoost\n",
      "    # Set the parameters for cross-validation grid search \n",
      "    tuned_parameters = [{'base_estimator': [DecisionTreeRegressor(max_depth=4),\n",
      "                                            DecisionTreeRegressor(max_depth=5)], \n",
      "                         'loss': ['linear','square'],'learning_rate': [0.75,1.0]}]\n",
      "\n",
      "    #clf_cas = AdaBoostRegressor(DecisionTreeRegressor(max_depth=4),n_estimators=300, random_state=rng)\n",
      "    #clf_reg = AdaBoostRegressor(DecisionTreeRegressor(max_depth=4),n_estimators=300, random_state=rng)\n",
      "    clf_cas = GridSearchCV(AdaBoostRegressor(n_estimators=300,random_state=rng1), tuned_parameters, cv=5, scoring='r2')\n",
      "    clf_reg = GridSearchCV(AdaBoostRegressor(n_estimators=300,random_state=rng2), tuned_parameters, cv=5, scoring='r2')"
     ],
     "language": "python",
     "metadata": {
      "run_control": {
       "breakpoint": false
      }
     },
     "outputs": [],
     "prompt_number": 266
    },
    {
     "cell_type": "code",
     "collapsed": false,
     "input": [
      "len(df_train.columns)"
     ],
     "language": "python",
     "metadata": {},
     "outputs": [
      {
       "metadata": {},
       "output_type": "pyout",
       "prompt_number": 268,
       "text": [
        "39"
       ]
      }
     ],
     "prompt_number": 268
    },
    {
     "cell_type": "code",
     "collapsed": false,
     "input": [
      "#type(clf_cas) #sklearn.grid_search.GridSearchCV"
     ],
     "language": "python",
     "metadata": {
      "run_control": {
       "breakpoint": false
      }
     },
     "outputs": [],
     "prompt_number": 267
    },
    {
     "cell_type": "code",
     "collapsed": false,
     "input": [
      "## Use Random Forests\n",
      "\n",
      "# First train a first-pass RF model to get feature importances. \n",
      "# Features(variables) used in the actual model will be selected upon their scores from this first RF model. \n",
      "tuned_params1_RF = [{'max_features': [5,10,15,20,25]},\n",
      "                    {'min_samples_leaf': [1,5,10]}]\n",
      "\n",
      "model1_cas = GridSearchCV(RandomForestRegressor(oob_score=True, n_jobs=4, n_estimators=100, criterion=,random_state=rng1), \n",
      "                          tuned_params1_RF, cv=5,scoring='r2')\n",
      "model1_reg = GridSearchCV(RandomForestRegressor(oob_score=True, n_jobs=4, n_estimators=100, random_state=rng2), \n",
      "                          tuned_params1_RF, cv=5,scoring='r2')"
     ],
     "language": "python",
     "metadata": {
      "run_control": {
       "breakpoint": false
      }
     },
     "outputs": [],
     "prompt_number": 269
    },
    {
     "cell_type": "code",
     "collapsed": false,
     "input": [
      "#df_train.head(5)"
     ],
     "language": "python",
     "metadata": {
      "run_control": {
       "breakpoint": false
      }
     },
     "outputs": [],
     "prompt_number": 270
    },
    {
     "cell_type": "code",
     "collapsed": false,
     "input": [
      "## Do the grid search on the entire data (i.e. 24 months.)\n",
      "X = df_train.drop(['datetime','casual','registered','count'], axis=1, inplace=False)\n",
      "y_cas = df_train['casual']\n",
      "y_reg = df_train['registered']\n"
     ],
     "language": "python",
     "metadata": {
      "run_control": {
       "breakpoint": false
      }
     },
     "outputs": [],
     "prompt_number": 271
    },
    {
     "cell_type": "code",
     "collapsed": false,
     "input": [
      "model1_cas.fit(X,y_cas)"
     ],
     "language": "python",
     "metadata": {
      "run_control": {
       "breakpoint": false
      }
     },
     "outputs": [
      {
       "metadata": {},
       "output_type": "pyout",
       "prompt_number": 272,
       "text": [
        "GridSearchCV(cv=5,\n",
        "       estimator=RandomForestRegressor(bootstrap=True, compute_importances=None,\n",
        "           criterion='mse', max_depth=None, max_features='auto',\n",
        "           max_leaf_nodes=None, min_density=None, min_samples_leaf=1,\n",
        "           min_samples_split=2, n_estimators=100, n_jobs=4, oob_score=True,\n",
        "           random_state=<mtrand.RandomState object at 0x116cb6b50>,\n",
        "           verbose=0),\n",
        "       fit_params={}, iid=True, loss_func=None, n_jobs=1,\n",
        "       param_grid=[{'max_features': [5, 10, 15, 20, 25]}, {'min_samples_leaf': [1, 5, 10]}],\n",
        "       pre_dispatch='2*n_jobs', refit=True, score_func=None, scoring='r2',\n",
        "       verbose=0)"
       ]
      }
     ],
     "prompt_number": 272
    },
    {
     "cell_type": "code",
     "collapsed": false,
     "input": [
      "#model1_cas.best_estimator_\n",
      "#model1_cas.best_estimator_.oob_score_  #mse score of the best estimator\n",
      "model1_cas.best_score_"
     ],
     "language": "python",
     "metadata": {},
     "outputs": [
      {
       "metadata": {},
       "output_type": "pyout",
       "prompt_number": 286,
       "text": [
        "0.69733319601865407"
       ]
      }
     ],
     "prompt_number": 286
    },
    {
     "cell_type": "code",
     "collapsed": false,
     "input": [
      "## Investigate importance of features for predicting casual : \n",
      "names = X.columns.values \n",
      "\n",
      "feature_imp_cas = model1_cas.best_estimator_.feature_importances_\n",
      "df_imp_cas = pd.DataFrame({'Feature': pd.Series(names), 'Importance': pd.Series(feature_imp_cas)})\n",
      "df_imp_cas.sort('Importance', ascending=0, inplace=True)\n",
      "df_imp_cas "
     ],
     "language": "python",
     "metadata": {
      "run_control": {
       "breakpoint": false
      }
     },
     "outputs": [],
     "prompt_number": 289
    },
    {
     "cell_type": "code",
     "collapsed": false,
     "input": [
      "#choose attributes that have the least predictive power and drop them\n",
      "num_drop_cas = 15 #no of attributes to drop\n",
      "drop_vars_cas = list(df_imp_cas.Feature.tail(num_drop_cas))\n",
      "\n",
      "X_cas = X.drop(drop_vars_cas, axis=1, inplace=False)"
     ],
     "language": "python",
     "metadata": {},
     "outputs": [],
     "prompt_number": 308
    },
    {
     "cell_type": "code",
     "collapsed": false,
     "input": [
      "#df_imp_cas"
     ],
     "language": "python",
     "metadata": {},
     "outputs": [],
     "prompt_number": 300
    },
    {
     "cell_type": "code",
     "collapsed": false,
     "input": [
      "# Fit model for regular customer bike counts\n",
      "model1_reg.fit(X,y_reg)"
     ],
     "language": "python",
     "metadata": {},
     "outputs": [
      {
       "metadata": {},
       "output_type": "pyout",
       "prompt_number": 276,
       "text": [
        "GridSearchCV(cv=5,\n",
        "       estimator=RandomForestRegressor(bootstrap=True, compute_importances=None,\n",
        "           criterion='mse', max_depth=None, max_features='auto',\n",
        "           max_leaf_nodes=None, min_density=None, min_samples_leaf=1,\n",
        "           min_samples_split=2, n_estimators=100, n_jobs=4, oob_score=True,\n",
        "           random_state=<mtrand.RandomState object at 0x116cb66d0>,\n",
        "           verbose=0),\n",
        "       fit_params={}, iid=True, loss_func=None, n_jobs=1,\n",
        "       param_grid=[{'max_features': [5, 10, 15, 20, 25]}, {'min_samples_leaf': [1, 5, 10]}],\n",
        "       pre_dispatch='2*n_jobs', refit=True, score_func=None, scoring='r2',\n",
        "       verbose=0)"
       ]
      }
     ],
     "prompt_number": 276
    },
    {
     "cell_type": "code",
     "collapsed": false,
     "input": [
      "model1_reg.best_score_"
     ],
     "language": "python",
     "metadata": {},
     "outputs": [
      {
       "metadata": {},
       "output_type": "pyout",
       "prompt_number": 287,
       "text": [
        "0.7110233789775019"
       ]
      }
     ],
     "prompt_number": 287
    },
    {
     "cell_type": "code",
     "collapsed": false,
     "input": [
      "feature_imp_reg = model1_reg.best_estimator_.feature_importances_\n",
      "df_imp_reg = pd.DataFrame({'Feature': pd.Series(names), 'Importance': pd.Series(feature_imp_reg)})\n",
      "df_imp_reg.sort('Importance', ascending=0, inplace=True)\n",
      "df_imp_reg "
     ],
     "language": "python",
     "metadata": {
      "run_control": {
       "breakpoint": false
      }
     },
     "outputs": [],
     "prompt_number": 290
    },
    {
     "cell_type": "code",
     "collapsed": false,
     "input": [
      "#choose attributes that have the least predictive power and drop them\n",
      "num_drop_reg = 10 #no of attributes to drop\n",
      "drop_vars_reg = list(df_imp_reg.Feature.tail(num_drop_reg))\n",
      "\n",
      "X_reg = X.drop(drop_vars_reg, axis=1, inplace=False)"
     ],
     "language": "python",
     "metadata": {
      "run_control": {
       "breakpoint": false
      }
     },
     "outputs": [],
     "prompt_number": 288
    },
    {
     "cell_type": "code",
     "collapsed": false,
     "input": [],
     "language": "python",
     "metadata": {
      "run_control": {
       "breakpoint": false
      }
     },
     "outputs": [],
     "prompt_number": 288
    },
    {
     "cell_type": "code",
     "collapsed": false,
     "input": [],
     "language": "python",
     "metadata": {
      "run_control": {
       "breakpoint": false
      }
     },
     "outputs": [],
     "prompt_number": 288
    },
    {
     "cell_type": "code",
     "collapsed": false,
     "input": [
      "# Create the gridsearchCV object for the actual models\n",
      "\n",
      "tuned_params2_RF = [{'max_features': [5,10,12,15,18],\n",
      "                     #'max_depth': [3,5,7],\n",
      "                     #'min_samples_split': [1,5,10],\n",
      "                    'min_samples_leaf': [1,2,3]}]\n",
      "\n",
      "rng2_cas = np.random.RandomState(31)\n",
      "rng2_reg = np.random.RandomState(32)\n",
      "\n",
      "model2_cas = GridSearchCV(RandomForestRegressor(oob_score=True, n_jobs=4, n_estimators=200, random_state=rng2_cas), \n",
      "                          tuned_params2_RF, cv=10,scoring='r2')\n",
      "model2_reg = GridSearchCV(RandomForestRegressor(oob_score=True, n_jobs=4, n_estimators=200, random_state=rng2_reg), \n",
      "                          tuned_params2_RF, cv=10,scoring='r2')"
     ],
     "language": "python",
     "metadata": {
      "run_control": {
       "breakpoint": false
      }
     },
     "outputs": [],
     "prompt_number": 302
    },
    {
     "cell_type": "code",
     "collapsed": false,
     "input": [
      "# Train actual RF models\n",
      "model2_cas.fit(X_cas,y_cas)"
     ],
     "language": "python",
     "metadata": {
      "run_control": {
       "breakpoint": false
      }
     },
     "outputs": [
      {
       "metadata": {},
       "output_type": "pyout",
       "prompt_number": 309,
       "text": [
        "GridSearchCV(cv=10,\n",
        "       estimator=RandomForestRegressor(bootstrap=True, compute_importances=None,\n",
        "           criterion='mse', max_depth=None, max_features='auto',\n",
        "           max_leaf_nodes=None, min_density=None, min_samples_leaf=1,\n",
        "           min_samples_split=2, n_estimators=200, n_jobs=4, oob_score=True,\n",
        "           random_state=<mtrand.RandomState object at 0x112b30510>,\n",
        "           verbose=0),\n",
        "       fit_params={}, iid=True, loss_func=None, n_jobs=1,\n",
        "       param_grid=[{'max_features': [5, 10, 12, 15, 18], 'min_samples_leaf': [1, 2, 3]}],\n",
        "       pre_dispatch='2*n_jobs', refit=True, score_func=None, scoring='r2',\n",
        "       verbose=0)"
       ]
      }
     ],
     "prompt_number": 309
    },
    {
     "cell_type": "code",
     "collapsed": false,
     "input": [
      "model2_reg.fit(X_reg,y_reg)"
     ],
     "language": "python",
     "metadata": {},
     "outputs": [
      {
       "metadata": {},
       "output_type": "pyout",
       "prompt_number": 304,
       "text": [
        "GridSearchCV(cv=10,\n",
        "       estimator=RandomForestRegressor(bootstrap=True, compute_importances=None,\n",
        "           criterion='mse', max_depth=None, max_features='auto',\n",
        "           max_leaf_nodes=None, min_density=None, min_samples_leaf=1,\n",
        "           min_samples_split=2, n_estimators=200, n_jobs=4, oob_score=True,\n",
        "           random_state=<mtrand.RandomState object at 0x112b30590>,\n",
        "           verbose=0),\n",
        "       fit_params={}, iid=True, loss_func=None, n_jobs=1,\n",
        "       param_grid=[{'max_features': [5, 10, 12, 15, 18], 'min_samples_leaf': [1, 2, 3]}],\n",
        "       pre_dispatch='2*n_jobs', refit=True, score_func=None, scoring='r2',\n",
        "       verbose=0)"
       ]
      }
     ],
     "prompt_number": 304
    },
    {
     "cell_type": "code",
     "collapsed": false,
     "input": [
      "model2_cas.best_estimator_"
     ],
     "language": "python",
     "metadata": {},
     "outputs": [
      {
       "metadata": {},
       "output_type": "pyout",
       "prompt_number": 305,
       "text": [
        "RandomForestRegressor(bootstrap=True, compute_importances=None,\n",
        "           criterion='mse', max_depth=None, max_features=12,\n",
        "           max_leaf_nodes=None, min_density=None, min_samples_leaf=2,\n",
        "           min_samples_split=2, n_estimators=200, n_jobs=4, oob_score=True,\n",
        "           random_state=<mtrand.RandomState object at 0x114220cd0>,\n",
        "           verbose=0)"
       ]
      }
     ],
     "prompt_number": 305
    },
    {
     "cell_type": "code",
     "collapsed": false,
     "input": [
      "# Out-of-bag error estimates\n",
      "#model2_cas.best_score_   # r2=0.60  not that good..\n",
      "model2_reg.best_score_  # r2=0.86 pretty good! "
     ],
     "language": "python",
     "metadata": {
      "run_control": {
       "breakpoint": false
      }
     },
     "outputs": [
      {
       "metadata": {},
       "output_type": "pyout",
       "prompt_number": 311,
       "text": [
        "0.86448069575260411"
       ]
      }
     ],
     "prompt_number": 311
    },
    {
     "cell_type": "code",
     "collapsed": false,
     "input": [
      "# Apply the preprocessing steps to the test data\n",
      "if False: #just do once! \n",
      "    # Shift attributes to the range [0,n_values)\n",
      "    df_test.season  = df_test.season - 1\n",
      "    df_test.weather = df_test.weather - 1\n",
      "    df_test.month   = df_test.month - 1\n",
      "\n",
      "\n",
      "arr_vars_test = np.array(df_test[['season','weather','month','weekday']])      \n",
      "arr_enc_vars_test = one_hot_encoder.transform(arr_vars_test)\n",
      "df_arr_enc_vars_test = pd.DataFrame(arr_enc_vars_test.toarray(),columns=enc_names,index=df_test.index)    \n",
      "\n",
      "df_test = df_test.join(df_arr_enc_vars_test)\n",
      "\n",
      "df_test.year = (df_test.year == 2012).apply(lambda x: int(x))\n",
      "\n",
      "df_test.drop(['season','weather','month','weekday','datetime'],axis=1,inplace=True)"
     ],
     "language": "python",
     "metadata": {},
     "outputs": [],
     "prompt_number": 314
    },
    {
     "cell_type": "code",
     "collapsed": false,
     "input": [
      "df_test.iloc[np.random.randint(0,len(df_test),5)]"
     ],
     "language": "python",
     "metadata": {},
     "outputs": [
      {
       "html": [
        "<div style=\"max-height:1000px;max-width:1500px;overflow:auto;\">\n",
        "<table border=\"1\" class=\"dataframe\">\n",
        "  <thead>\n",
        "    <tr style=\"text-align: right;\">\n",
        "      <th></th>\n",
        "      <th>holiday</th>\n",
        "      <th>workingday</th>\n",
        "      <th>temp</th>\n",
        "      <th>atemp</th>\n",
        "      <th>humidity</th>\n",
        "      <th>windspeed</th>\n",
        "      <th>hour</th>\n",
        "      <th>year</th>\n",
        "      <th>casual</th>\n",
        "      <th>registered</th>\n",
        "      <th>...</th>\n",
        "      <th>month_10</th>\n",
        "      <th>month_11</th>\n",
        "      <th>month_12</th>\n",
        "      <th>day_0</th>\n",
        "      <th>day_1</th>\n",
        "      <th>day_2</th>\n",
        "      <th>day_3</th>\n",
        "      <th>day_4</th>\n",
        "      <th>day_5</th>\n",
        "      <th>day_6</th>\n",
        "    </tr>\n",
        "    <tr>\n",
        "      <th>datetime</th>\n",
        "      <th></th>\n",
        "      <th></th>\n",
        "      <th></th>\n",
        "      <th></th>\n",
        "      <th></th>\n",
        "      <th></th>\n",
        "      <th></th>\n",
        "      <th></th>\n",
        "      <th></th>\n",
        "      <th></th>\n",
        "      <th></th>\n",
        "      <th></th>\n",
        "      <th></th>\n",
        "      <th></th>\n",
        "      <th></th>\n",
        "      <th></th>\n",
        "      <th></th>\n",
        "      <th></th>\n",
        "      <th></th>\n",
        "      <th></th>\n",
        "      <th></th>\n",
        "    </tr>\n",
        "  </thead>\n",
        "  <tbody>\n",
        "    <tr>\n",
        "      <th>2011-08-23 10:00:00</th>\n",
        "      <td> 0</td>\n",
        "      <td> 1</td>\n",
        "      <td> 28.70</td>\n",
        "      <td> 31.820</td>\n",
        "      <td> 37</td>\n",
        "      <td>  0.0000</td>\n",
        "      <td> 10</td>\n",
        "      <td> 0</td>\n",
        "      <td> 0</td>\n",
        "      <td> 0</td>\n",
        "      <td>...</td>\n",
        "      <td> 0</td>\n",
        "      <td> 0</td>\n",
        "      <td> 0</td>\n",
        "      <td> 0</td>\n",
        "      <td> 1</td>\n",
        "      <td> 0</td>\n",
        "      <td> 0</td>\n",
        "      <td> 0</td>\n",
        "      <td> 0</td>\n",
        "      <td> 0</td>\n",
        "    </tr>\n",
        "    <tr>\n",
        "      <th>2012-12-27 14:00:00</th>\n",
        "      <td> 0</td>\n",
        "      <td> 1</td>\n",
        "      <td> 10.66</td>\n",
        "      <td> 10.605</td>\n",
        "      <td> 56</td>\n",
        "      <td> 35.0008</td>\n",
        "      <td> 14</td>\n",
        "      <td> 1</td>\n",
        "      <td> 0</td>\n",
        "      <td> 0</td>\n",
        "      <td>...</td>\n",
        "      <td> 0</td>\n",
        "      <td> 0</td>\n",
        "      <td> 1</td>\n",
        "      <td> 0</td>\n",
        "      <td> 0</td>\n",
        "      <td> 0</td>\n",
        "      <td> 1</td>\n",
        "      <td> 0</td>\n",
        "      <td> 0</td>\n",
        "      <td> 0</td>\n",
        "    </tr>\n",
        "    <tr>\n",
        "      <th>2012-06-21 05:00:00</th>\n",
        "      <td> 0</td>\n",
        "      <td> 1</td>\n",
        "      <td> 28.70</td>\n",
        "      <td> 33.335</td>\n",
        "      <td> 84</td>\n",
        "      <td>  7.0015</td>\n",
        "      <td>  5</td>\n",
        "      <td> 1</td>\n",
        "      <td> 0</td>\n",
        "      <td> 0</td>\n",
        "      <td>...</td>\n",
        "      <td> 0</td>\n",
        "      <td> 0</td>\n",
        "      <td> 0</td>\n",
        "      <td> 0</td>\n",
        "      <td> 0</td>\n",
        "      <td> 0</td>\n",
        "      <td> 1</td>\n",
        "      <td> 0</td>\n",
        "      <td> 0</td>\n",
        "      <td> 0</td>\n",
        "    </tr>\n",
        "    <tr>\n",
        "      <th>2011-05-28 06:00:00</th>\n",
        "      <td> 0</td>\n",
        "      <td> 0</td>\n",
        "      <td> 23.78</td>\n",
        "      <td> 27.275</td>\n",
        "      <td> 83</td>\n",
        "      <td> 16.9979</td>\n",
        "      <td>  6</td>\n",
        "      <td> 0</td>\n",
        "      <td> 0</td>\n",
        "      <td> 0</td>\n",
        "      <td>...</td>\n",
        "      <td> 0</td>\n",
        "      <td> 0</td>\n",
        "      <td> 0</td>\n",
        "      <td> 0</td>\n",
        "      <td> 0</td>\n",
        "      <td> 0</td>\n",
        "      <td> 0</td>\n",
        "      <td> 0</td>\n",
        "      <td> 1</td>\n",
        "      <td> 0</td>\n",
        "    </tr>\n",
        "    <tr>\n",
        "      <th>2012-12-28 12:00:00</th>\n",
        "      <td> 0</td>\n",
        "      <td> 1</td>\n",
        "      <td> 12.30</td>\n",
        "      <td> 15.150</td>\n",
        "      <td> 49</td>\n",
        "      <td>  8.9981</td>\n",
        "      <td> 12</td>\n",
        "      <td> 1</td>\n",
        "      <td> 0</td>\n",
        "      <td> 0</td>\n",
        "      <td>...</td>\n",
        "      <td> 0</td>\n",
        "      <td> 0</td>\n",
        "      <td> 1</td>\n",
        "      <td> 0</td>\n",
        "      <td> 0</td>\n",
        "      <td> 0</td>\n",
        "      <td> 0</td>\n",
        "      <td> 1</td>\n",
        "      <td> 0</td>\n",
        "      <td> 0</td>\n",
        "    </tr>\n",
        "  </tbody>\n",
        "</table>\n",
        "<p>5 rows \u00d7 37 columns</p>\n",
        "</div>"
       ],
       "metadata": {},
       "output_type": "pyout",
       "prompt_number": 319,
       "text": [
        "                     holiday  workingday   temp   atemp  humidity  windspeed  \\\n",
        "datetime                                                                       \n",
        "2011-08-23 10:00:00        0           1  28.70  31.820        37     0.0000   \n",
        "2012-12-27 14:00:00        0           1  10.66  10.605        56    35.0008   \n",
        "2012-06-21 05:00:00        0           1  28.70  33.335        84     7.0015   \n",
        "2011-05-28 06:00:00        0           0  23.78  27.275        83    16.9979   \n",
        "2012-12-28 12:00:00        0           1  12.30  15.150        49     8.9981   \n",
        "\n",
        "                     hour  year  casual  registered  ...    month_10  \\\n",
        "datetime                                             ...               \n",
        "2011-08-23 10:00:00    10     0       0           0  ...           0   \n",
        "2012-12-27 14:00:00    14     1       0           0  ...           0   \n",
        "2012-06-21 05:00:00     5     1       0           0  ...           0   \n",
        "2011-05-28 06:00:00     6     0       0           0  ...           0   \n",
        "2012-12-28 12:00:00    12     1       0           0  ...           0   \n",
        "\n",
        "                     month_11  month_12  day_0  day_1  day_2  day_3  day_4  \\\n",
        "datetime                                                                     \n",
        "2011-08-23 10:00:00         0         0      0      1      0      0      0   \n",
        "2012-12-27 14:00:00         0         1      0      0      0      1      0   \n",
        "2012-06-21 05:00:00         0         0      0      0      0      1      0   \n",
        "2011-05-28 06:00:00         0         0      0      0      0      0      0   \n",
        "2012-12-28 12:00:00         0         1      0      0      0      0      1   \n",
        "\n",
        "                     day_5  day_6  \n",
        "datetime                           \n",
        "2011-08-23 10:00:00      0      0  \n",
        "2012-12-27 14:00:00      0      0  \n",
        "2012-06-21 05:00:00      0      0  \n",
        "2011-05-28 06:00:00      1      0  \n",
        "2012-12-28 12:00:00      0      0  \n",
        "\n",
        "[5 rows x 37 columns]"
       ]
      }
     ],
     "prompt_number": 319
    },
    {
     "cell_type": "code",
     "collapsed": false,
     "input": [
      "train_data = pd.DataFrame()"
     ],
     "language": "python",
     "metadata": {
      "run_control": {
       "breakpoint": false
      }
     },
     "outputs": [],
     "prompt_number": 324
    },
    {
     "cell_type": "code",
     "collapsed": false,
     "input": [
      "# Predict counts month by month\n",
      "for month in months_list:\n",
      "    ## For every month, predict the counts for the test set from the previous and current months' training sets. \n",
      "    \n",
      "    print 'Processing ' + month\n",
      "    \n",
      "    test_data  = df_test[month]\n",
      "    \n",
      "    if False:   #Train using data from previous months only\n",
      "        print 'Training from the previous and current months\\' data only...'\n",
      "        train_data = train_data.append(df_train[month]) \n",
      "\n",
      "        #import debug\n",
      "        ## Gather estimators\n",
      "        #  Exclude 'workingday','atemp' for now..\n",
      "        X     = train_data[['holiday','weather','temp','humidity','windspeed','weekday','hour','month']]\n",
      "        y_cas = train_data['casual']\n",
      "        y_reg = train_data['registered']\n",
      "\n",
      "        # if first month: drop 'month'\n",
      "        if month == '2011-01':\n",
      "            print 'Dropping month..'\n",
      "            X.drop('month', axis=1)\n",
      "        # You could also use different estimators for casual and registered (e.g. temp vs atemp)\n",
      "\n",
      "        # Split data into train and test set \n",
      "        X_train_cas, X_test_cas, y_train_cas, y_test_cas = train_test_split(X, y_cas, test_size=0.3, random_state=0)\n",
      "        X_train_reg, X_test_reg, y_train_reg, y_test_reg = train_test_split(X, y_reg, test_size=0.3, random_state=1)\n",
      "\n",
      "        ## Train models\n",
      "        clf_cas.fit(X_train_cas,y_train_cas)\n",
      "        clf_reg.fit(X_train_reg,y_train_reg)\n",
      "    \n",
      "        ## Inspect model accuracy on test set  \n",
      "        clf_cas.score(X_test_cas,y_test_cas)\n",
      "        clf_reg.score(X_test_reg,y_test_reg)\n",
      "        import debug\n",
      "    \n",
      "\n",
      "    #Prepare the input for this month to predict number of counts\n",
      "    drop_vars_cas_test = drop_vars_cas + ['casual','registered']\n",
      "    drop_vars_reg_test = drop_vars_reg + ['casual','registered']\n",
      "    \n",
      "    X_cas_test = test_data.drop(drop_vars_cas_test, axis=1, inplace=False)\n",
      "    X_reg_test = test_data.drop(drop_vars_reg_test, axis=1, inplace=False)\n",
      "    \n",
      "    #X_cas_test = X_cas_test.drop(['casual','registered'], axis=1, inplace=True)\n",
      "    #X_reg_test = X_reg_test.drop(['casual','registered'], axis=1, inplace=True)\n",
      "\n",
      "    if False: #When predicting from previous months only. \n",
      "        # if first month: drop 'month'\n",
      "        if month == '2011-01':\n",
      "            print 'Dropping month..'\n",
      "            X_test.drop('month', axis=1)\n",
      "    \n",
      "    # Predict\n",
      "    #import debug\n",
      "    y_test_cas = model2_cas.predict(X_cas_test)\n",
      "    y_test_reg = model2_reg.predict(X_reg_test)    \n",
      "        \n",
      "    #import debug\n",
      "    \n",
      "    df_test.loc[df_test[month].index ,'casual']     = pd.Series(y_test_cas, index=df_test[month].index)\n",
      "    df_test.loc[df_test[month].index ,'registered'] = pd.Series(y_test_reg, index=df_test[month].index)\n",
      "\n",
      "    print month + ' is processed!'\n",
      "    import debug"
     ],
     "language": "python",
     "metadata": {
      "run_control": {
       "breakpoint": false
      }
     },
     "outputs": [
      {
       "name": "stdout",
       "output_type": "stream",
       "stream": "stdout",
       "text": [
        "ipdb> c\n"
       ]
      },
      {
       "name": "stdout",
       "output_type": "stream",
       "stream": "stdout",
       "text": [
        "ipdb> c\n"
       ]
      },
      {
       "name": "stdout",
       "output_type": "stream",
       "stream": "stdout",
       "text": [
        "ipdb> c\n"
       ]
      },
      {
       "name": "stdout",
       "output_type": "stream",
       "stream": "stdout",
       "text": [
        "ipdb> c\n"
       ]
      },
      {
       "name": "stdout",
       "output_type": "stream",
       "stream": "stdout",
       "text": [
        "ipdb> c\n"
       ]
      },
      {
       "name": "stdout",
       "output_type": "stream",
       "stream": "stdout",
       "text": [
        "ipdb> c\n"
       ]
      },
      {
       "name": "stdout",
       "output_type": "stream",
       "stream": "stdout",
       "text": [
        "ipdb> c\n"
       ]
      },
      {
       "name": "stdout",
       "output_type": "stream",
       "stream": "stdout",
       "text": [
        "ipdb> c\n"
       ]
      },
      {
       "name": "stdout",
       "output_type": "stream",
       "stream": "stdout",
       "text": [
        "ipdb> c\n"
       ]
      },
      {
       "name": "stdout",
       "output_type": "stream",
       "stream": "stdout",
       "text": [
        "ipdb> c\n"
       ]
      },
      {
       "name": "stdout",
       "output_type": "stream",
       "stream": "stdout",
       "text": [
        "ipdb> c\n"
       ]
      },
      {
       "name": "stdout",
       "output_type": "stream",
       "stream": "stdout",
       "text": [
        "ipdb> c\n"
       ]
      },
      {
       "name": "stdout",
       "output_type": "stream",
       "stream": "stdout",
       "text": [
        "ipdb> c\n"
       ]
      },
      {
       "name": "stdout",
       "output_type": "stream",
       "stream": "stdout",
       "text": [
        "ipdb> c\n"
       ]
      },
      {
       "name": "stdout",
       "output_type": "stream",
       "stream": "stdout",
       "text": [
        "ipdb> c\n"
       ]
      },
      {
       "name": "stdout",
       "output_type": "stream",
       "stream": "stdout",
       "text": [
        "ipdb> c\n"
       ]
      },
      {
       "name": "stdout",
       "output_type": "stream",
       "stream": "stdout",
       "text": [
        "ipdb> c\n"
       ]
      },
      {
       "name": "stdout",
       "output_type": "stream",
       "stream": "stdout",
       "text": [
        "ipdb> c\n"
       ]
      },
      {
       "name": "stdout",
       "output_type": "stream",
       "stream": "stdout",
       "text": [
        "ipdb> c\n"
       ]
      },
      {
       "name": "stdout",
       "output_type": "stream",
       "stream": "stdout",
       "text": [
        "ipdb> c\n"
       ]
      },
      {
       "name": "stdout",
       "output_type": "stream",
       "stream": "stdout",
       "text": [
        "ipdb> c\n"
       ]
      },
      {
       "name": "stdout",
       "output_type": "stream",
       "stream": "stdout",
       "text": [
        "ipdb> c\n"
       ]
      },
      {
       "name": "stdout",
       "output_type": "stream",
       "stream": "stdout",
       "text": [
        "ipdb> c\n"
       ]
      },
      {
       "name": "stdout",
       "output_type": "stream",
       "stream": "stdout",
       "text": [
        "ipdb> c\n"
       ]
      }
     ],
     "prompt_number": 325
    },
    {
     "cell_type": "code",
     "collapsed": false,
     "input": [],
     "language": "python",
     "metadata": {
      "run_control": {
       "breakpoint": false
      }
     },
     "outputs": [],
     "prompt_number": 325
    },
    {
     "cell_type": "code",
     "collapsed": false,
     "input": [
      "#df_test.head(5)"
     ],
     "language": "python",
     "metadata": {
      "run_control": {
       "breakpoint": false
      }
     },
     "outputs": [],
     "prompt_number": 327
    },
    {
     "cell_type": "code",
     "collapsed": false,
     "input": [
      "## Sum registered and casual to get count\n",
      "df_test['count'] = df_test['casual'] + df_test['registered'] "
     ],
     "language": "python",
     "metadata": {
      "run_control": {
       "breakpoint": false
      }
     },
     "outputs": [],
     "prompt_number": 328
    },
    {
     "cell_type": "code",
     "collapsed": false,
     "input": [],
     "language": "python",
     "metadata": {
      "run_control": {
       "breakpoint": false
      }
     },
     "outputs": [],
     "prompt_number": 328
    },
    {
     "cell_type": "code",
     "collapsed": false,
     "input": [
      "#%pylab   #Throws error"
     ],
     "language": "python",
     "metadata": {
      "run_control": {
       "breakpoint": false
      }
     },
     "outputs": [],
     "prompt_number": 329
    },
    {
     "cell_type": "code",
     "collapsed": false,
     "input": [
      "## Plot training and test counts together \n",
      "#%pylab qt \n",
      "fig_res = plt.figure(2)\n",
      "\n",
      "month_idx = 20 \n",
      "\n",
      "ax1 = plt.subplot(2,1,1)\n",
      "plt.title('Casual')\n",
      "line1, = ax1.plot(df_train[months_list[month_idx]].index,df_train[months_list[month_idx]]['casual'],'b',label='Train')\n",
      "line2, = ax1.plot(df_test[months_list[month_idx]].index,df_test[months_list[month_idx]]['casual'],'r',label='Test')\n",
      "plt.legend([line1, line2], ['Train', 'Test'])\n",
      "\n",
      "ax2 = plt.subplot(2,1,2, sharex=ax1)\n",
      "plt.title('Registered')\n",
      "line3, = ax2.plot(df_train[months_list[month_idx]].index,df_train[months_list[month_idx]]['registered'],'b',label='Train')\n",
      "line4, = ax2.plot(df_test[months_list[month_idx]].index,df_test[months_list[month_idx]]['registered'],'r',label='Test')\n",
      "plt.legend([line3, line4], ['Train', 'Test'])\n",
      "\n",
      "#plt.show()"
     ],
     "language": "python",
     "metadata": {
      "run_control": {
       "breakpoint": false
      }
     },
     "outputs": [
      {
       "metadata": {},
       "output_type": "pyout",
       "prompt_number": 330,
       "text": [
        "<matplotlib.legend.Legend at 0x11a3dbd50>"
       ]
      },
      {
       "metadata": {},
       "output_type": "display_data",
       "png": "[encoded data removed]",
       "text": [
        "<matplotlib.figure.Figure at 0x11247ee10>"
       ]
      }
     ],
     "prompt_number": 330
    },
    {
     "cell_type": "code",
     "collapsed": false,
     "input": [],
     "language": "python",
     "metadata": {
      "run_control": {
       "breakpoint": false
      }
     },
     "outputs": [],
     "prompt_number": 332
    },
    {
     "cell_type": "code",
     "collapsed": false,
     "input": [
      "## Write counts for test data to submission csv\n",
      "dirname = os.getcwd() + '/Kaggle/BikeSharing/'\n",
      "#dirname = os.getcwd() \n",
      "submission_name = 'submission4_osayin_RF.csv'\n",
      "\n",
      "df_submit = df_test[['count']]\n",
      "df_submit.to_csv(dirname + submission_name)\n"
     ],
     "language": "python",
     "metadata": {
      "run_control": {
       "breakpoint": false
      }
     },
     "outputs": [],
     "prompt_number": 333
    },
    {
     "cell_type": "code",
     "collapsed": false,
     "input": [],
     "language": "python",
     "metadata": {
      "run_control": {
       "breakpoint": false
      }
     },
     "outputs": [],
     "prompt_number": 74
    },
    {
     "cell_type": "code",
     "collapsed": false,
     "input": [],
     "language": "python",
     "metadata": {
      "run_control": {
       "breakpoint": false
      }
     },
     "outputs": [],
     "prompt_number": 74
    },
    {
     "cell_type": "code",
     "collapsed": false,
     "input": [],
     "language": "python",
     "metadata": {
      "run_control": {
       "breakpoint": false
      }
     },
     "outputs": [],
     "prompt_number": 74
    },
    {
     "cell_type": "code",
     "collapsed": false,
     "input": [],
     "language": "python",
     "metadata": {
      "run_control": {
       "breakpoint": false
      }
     },
     "outputs": [],
     "prompt_number": 74
    },
    {
     "cell_type": "code",
     "collapsed": false,
     "input": [],
     "language": "python",
     "metadata": {
      "run_control": {
       "breakpoint": false
      }
     },
     "outputs": [],
     "prompt_number": 11
    },
    {
     "cell_type": "code",
     "collapsed": false,
     "input": [],
     "language": "python",
     "metadata": {
      "run_control": {
       "breakpoint": false
      }
     },
     "outputs": []
    }
   ],
   "metadata": {}
  }
 ]
}